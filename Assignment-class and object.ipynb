{
 "cells": [
  {
   "cell_type": "markdown",
   "id": "e7586e8e-912e-494e-992c-cefb01306374",
   "metadata": {},
   "source": [
    "Q.1"
   ]
  },
  {
   "cell_type": "markdown",
   "id": "c5402db0-8790-442c-9c9a-56774a893438",
   "metadata": {},
   "source": [
    "Classes are user-defined data types that act as the blueprint for individual objects, attributes and methods. Objects are instances of a class created with specifically defined data."
   ]
  },
  {
   "cell_type": "markdown",
   "id": "d4a35d1c-28e8-468d-893d-08a3ce20599d",
   "metadata": {},
   "source": [
    "EX."
   ]
  },
  {
   "cell_type": "code",
   "execution_count": 1,
   "id": "03b69d17-27e9-414f-a032-a140c22f277d",
   "metadata": {},
   "outputs": [],
   "source": [
    "class car:\n",
    "    def modle_2016(self):\n",
    "        print(\"1. Desial engine\",\"2. fully Automatically\" ,\"3. sunroof\")"
   ]
  },
  {
   "cell_type": "code",
   "execution_count": 2,
   "id": "c46d4cbc-4540-4efa-8f1f-4720e24bdb12",
   "metadata": {},
   "outputs": [],
   "source": [
    "MG = car()"
   ]
  },
  {
   "cell_type": "code",
   "execution_count": 7,
   "id": "b01f115f-5426-4284-a311-9837d9bd8085",
   "metadata": {},
   "outputs": [
    {
     "name": "stdout",
     "output_type": "stream",
     "text": [
      "1. Desial engine 2. fully Automatically 3. sunroof\n"
     ]
    }
   ],
   "source": [
    "MG.modle_2016()"
   ]
  },
  {
   "cell_type": "markdown",
   "id": "0907cd59-42a8-443e-ae0c-158d51333bf9",
   "metadata": {},
   "source": [
    "Q.2"
   ]
  },
  {
   "cell_type": "markdown",
   "id": "91682245-f5da-43b5-865a-67b5364d3518",
   "metadata": {},
   "source": [
    "The Four Pillars of Object Oriented Programming\n",
    "Abstraction.\n",
    "Encapsulation.\n",
    "Inheritance.\n",
    "Polymorphism."
   ]
  },
  {
   "cell_type": "markdown",
   "id": "40e9212f-c0d0-43b5-aef5-d8aa25b39725",
   "metadata": {},
   "source": [
    "Q.3"
   ]
  },
  {
   "cell_type": "markdown",
   "id": "15e9e293-55e0-4740-afe4-f4c9bd2e961c",
   "metadata": {},
   "source": [
    "In Python, __init__ is a special method known as the constructor. It is automatically called when a new instance (object) of a class is created. The __init__ method allows us to initialize the attributes (variables) of an object."
   ]
  },
  {
   "cell_type": "markdown",
   "id": "297b4252-82f7-4a5c-9ab0-4a32049ac74b",
   "metadata": {},
   "source": [
    "EX."
   ]
  },
  {
   "cell_type": "code",
   "execution_count": 8,
   "id": "17b11d1c-7600-48e8-a2a4-74eca7073d8f",
   "metadata": {},
   "outputs": [
    {
     "name": "stdout",
     "output_type": "stream",
     "text": [
      "aleem\n",
      "24\n"
     ]
    }
   ],
   "source": [
    "class person:\n",
    "   def __init__(self, name, age):\n",
    "        self.name = name\n",
    "        self.age = age\n",
    "\n",
    "p1 = person(\"aleem\", 24,)\n",
    "\n",
    "print(p1.name)\n",
    "print(p1.age)"
   ]
  },
  {
   "cell_type": "markdown",
   "id": "e8ca3f3c-283f-4e05-b1d4-56ed5ae961d9",
   "metadata": {},
   "source": [
    "Q.4"
   ]
  },
  {
   "cell_type": "markdown",
   "id": "1af8bc5e-7d7a-40d3-a1b7-75cc73c7871a",
   "metadata": {},
   "source": [
    "The self is used to represent the instance of the class. With this keyword, we can access the attributes and methods of the class in python."
   ]
  },
  {
   "cell_type": "markdown",
   "id": "f3eb262e-20a1-468d-979a-6ba47ebcac33",
   "metadata": {},
   "source": [
    "Q.5"
   ]
  },
  {
   "cell_type": "markdown",
   "id": "225f888f-a78a-4d2f-b6bf-2e119326fd25",
   "metadata": {},
   "source": [
    "Inheritance allows us to define a class that inherits all the methods and properties from another class."
   ]
  },
  {
   "cell_type": "markdown",
   "id": "ff79b7c5-4845-4898-895e-f3ccea5a5eaa",
   "metadata": {},
   "source": [
    "Parent class is the class being inherited from, also called base class. Child class is the class that inherits from another class, also called derived class."
   ]
  },
  {
   "cell_type": "markdown",
   "id": "f2a0c0d6-23d8-4e0d-b2d1-35232be49766",
   "metadata": {},
   "source": [
    "Ex."
   ]
  },
  {
   "cell_type": "code",
   "execution_count": 6,
   "id": "7503729e-70fd-403a-b4b6-1f2452a2b970",
   "metadata": {},
   "outputs": [],
   "source": [
    "class class1:\n",
    "    def Parent_class1(self):\n",
    "        return \"This is Parent_class\""
   ]
  },
  {
   "cell_type": "code",
   "execution_count": 7,
   "id": "6ebd2ea0-ac2a-4ed7-a0d9-87a3ddab46cb",
   "metadata": {},
   "outputs": [],
   "source": [
    "class class2(class1):\n",
    "    def child_class2(self):\n",
    "        return \"This is child_class\""
   ]
  },
  {
   "cell_type": "code",
   "execution_count": 8,
   "id": "546994b7-2d0d-413e-b09a-6feeab6facba",
   "metadata": {},
   "outputs": [],
   "source": [
    "class class3(class2):\n",
    "    pass"
   ]
  },
  {
   "cell_type": "code",
   "execution_count": 9,
   "id": "04226b36-14f4-407c-8a51-52a3bf4eeb5e",
   "metadata": {},
   "outputs": [],
   "source": [
    "pw =  class3()"
   ]
  },
  {
   "cell_type": "code",
   "execution_count": 10,
   "id": "c9bcf094-9019-47bc-a064-bd4ac167962d",
   "metadata": {},
   "outputs": [
    {
     "data": {
      "text/plain": [
       "'This is Parent_class'"
      ]
     },
     "execution_count": 10,
     "metadata": {},
     "output_type": "execute_result"
    }
   ],
   "source": [
    "pw.Parent_class1()"
   ]
  },
  {
   "cell_type": "code",
   "execution_count": 11,
   "id": "792939b2-440a-48f3-b53b-e0126d98b8e7",
   "metadata": {},
   "outputs": [
    {
     "data": {
      "text/plain": [
       "'This is child_class'"
      ]
     },
     "execution_count": 11,
     "metadata": {},
     "output_type": "execute_result"
    }
   ],
   "source": [
    "pw.child_class2()"
   ]
  },
  {
   "cell_type": "markdown",
   "id": "d6a40585-ab22-4899-b2d6-76ffb24c6adb",
   "metadata": {},
   "source": [
    "Thank You"
   ]
  }
 ],
 "metadata": {
  "kernelspec": {
   "display_name": "Python 3 (ipykernel)",
   "language": "python",
   "name": "python3"
  },
  "language_info": {
   "codemirror_mode": {
    "name": "ipython",
    "version": 3
   },
   "file_extension": ".py",
   "mimetype": "text/x-python",
   "name": "python",
   "nbconvert_exporter": "python",
   "pygments_lexer": "ipython3",
   "version": "3.10.8"
  }
 },
 "nbformat": 4,
 "nbformat_minor": 5
}
